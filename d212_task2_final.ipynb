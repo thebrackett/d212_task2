{
 "cells": [
  {
   "cell_type": "markdown",
   "id": "93608ec9-ac7f-4730-8c5c-8d5d7c4365c9",
   "metadata": {},
   "source": [
    "# Import Libraries and fetch data"
   ]
  },
  {
   "cell_type": "code",
   "execution_count": 18,
   "id": "6e774145-bc25-4578-9665-baf6e163c44a",
   "metadata": {},
   "outputs": [],
   "source": [
    "# import pandas for dataframe manipulation and other utilities\n",
    "import pandas as pd\n",
    "\n",
    "# import numpy for array-wise operations and other math utilities\n",
    "import numpy as np\n",
    "\n",
    "# import pyplot as foundational visualization library\n",
    "import matplotlib.pyplot as plt\n",
    "\n",
    "# import PCA for principal component analysis\n",
    "from sklearn.decomposition import PCA\n",
    "\n",
    "# import pca library for comprehensive PCA analysis and prep tools\n",
    "from pca import pca as pca_funct\n",
    "rand_state = 42\n",
    "\n",
    "# import seaborn for additional visualization functions\n",
    "import seaborn as sns\n",
    "\n",
    "# filter out warnings to clean up output\n",
    "import warnings\n",
    "warnings.filterwarnings('ignore')\n",
    "\n",
    "# import data\n",
    "df = pd.read_csv('data/medical_clean.csv')\n",
    "\n",
    "# import manually created data definitons as lookup table for differentiating qualitative/quantitative columns for processing\n",
    "df_var_definitions = pd.read_csv('data/var_definitions.csv', encoding = 'unicode_escape', engine ='python')"
   ]
  },
  {
   "cell_type": "code",
   "execution_count": 19,
   "id": "3fd3bc81-b966-4036-b90d-e5414dd9a665",
   "metadata": {},
   "outputs": [
    {
     "name": "stdout",
     "output_type": "stream",
     "text": [
      "----------------------------------------\n",
      " 50 of 50 columns mapped successfully \n",
      "----------------------------------------\n"
     ]
    }
   ],
   "source": [
    "# create copy of dataframe for further manipulation\n",
    "df_init = df.copy(deep=True)\n",
    "\n",
    "# strip any whitespace to avoid frustrating naming mismatches\n",
    "df_init = df_init.rename(columns=lambda x: x.strip())\n",
    "\n",
    "# fetch column mapping from var definition file\n",
    "new_col_df = df_var_definitions.copy(deep=True)\n",
    "\n",
    "var_dict = new_col_df.set_index('Variable Name')['Standardized Name'].to_dict()\n",
    "\n",
    "# rename columns using the mapping defined above\n",
    "df_init.rename(columns = var_dict, inplace=True)\n",
    "\n",
    "# verify that our data variable type dictionary values are distinct and only contain two values: Qualitative and Quantitative\n",
    "set(df_var_definitions['Data Type (Quantitative/Qualitative)'])\n",
    "\n",
    "# create two lists of columns: one of all qualitative columns and one of all quantitative columns\n",
    "qualitative_columns = []\n",
    "quantitative_columns = []\n",
    "unmapped_columns = []\n",
    "\n",
    "map_count = 0\n",
    "\n",
    "# test and add columns to appropriate list based on stripped column name from var list\n",
    "for column in df_init.columns:\n",
    "    curr_type = df_var_definitions.loc[df_var_definitions['Standardized Name'].str.strip() == column,'Data Type (Quantitative/Qualitative)']\n",
    "\n",
    "    try:\n",
    "        if curr_type.size > 0:\n",
    "            if curr_type.values[0] == 'Qualitative':\n",
    "                qualitative_columns.append(column)\n",
    "                \n",
    "            elif curr_type.values[0] == 'Quantitative':\n",
    "                quantitative_columns.append(column)\n",
    "                \n",
    "        else:\n",
    "            unmapped_columns.append(column)\n",
    "            \n",
    "    except:\n",
    "        print('something went wrong')\n",
    "        \n",
    "# count mapped columns\n",
    "map_count = len(qualitative_columns) + len(quantitative_columns)\n",
    "\n",
    "# compare total column count vs. mapped and display warning if mismatched\n",
    "print(f'{\"--\"*20}\\n {map_count} of {len(df_init.columns)} columns mapped successfully \\n{\"--\"*20}')\n",
    "\n",
    "if len(unmapped_columns) > 0:\n",
    "    print(f'WARNING: Unable to map some columns: {unmapped_columns} \\n{\"==\"*20}')"
   ]
  },
  {
   "cell_type": "code",
   "execution_count": 20,
   "id": "d11ad4a3-b7ba-43ce-b5b3-f72a4dd3d5dd",
   "metadata": {},
   "outputs": [
    {
     "name": "stdout",
     "output_type": "stream",
     "text": [
      "<class 'pandas.core.frame.DataFrame'>\n",
      "RangeIndex: 10000 entries, 0 to 9999\n",
      "Data columns (total 13 columns):\n",
      " #   Column              Non-Null Count  Dtype  \n",
      "---  ------              --------------  -----  \n",
      " 0   lat                 10000 non-null  float64\n",
      " 1   lng                 10000 non-null  float64\n",
      " 2   population          10000 non-null  int64  \n",
      " 3   children            10000 non-null  int64  \n",
      " 4   age                 10000 non-null  int64  \n",
      " 5   income              10000 non-null  float64\n",
      " 6   vit_d_levels        10000 non-null  float64\n",
      " 7   doc_visits          10000 non-null  int64  \n",
      " 8   full_meals_eaten    10000 non-null  int64  \n",
      " 9   vit_d_supp          10000 non-null  int64  \n",
      " 10  initial_days        10000 non-null  float64\n",
      " 11  total_charge        10000 non-null  float64\n",
      " 12  additional_charges  10000 non-null  float64\n",
      "dtypes: float64(7), int64(6)\n",
      "memory usage: 1015.8 KB\n"
     ]
    }
   ],
   "source": [
    "# display type and number of quantitative colunns found\n",
    "df_init[quantitative_columns].info()"
   ]
  },
  {
   "cell_type": "markdown",
   "id": "f845ce16-a781-4905-bc75-ecf5de57cecb",
   "metadata": {},
   "source": [
    "# Select features"
   ]
  },
  {
   "cell_type": "code",
   "execution_count": 21,
   "id": "c3de234c-4e5c-48bf-bb32-1c13f151477f",
   "metadata": {},
   "outputs": [],
   "source": [
    "# TODO: currently arbitrary, needs proof of why\n",
    "df_pca = df_init[['population','children','age','income','initial_days','total_charge','additional_charges']]\n"
   ]
  },
  {
   "cell_type": "markdown",
   "id": "3765640d-6893-49fc-a80b-20c2d9f5eb7f",
   "metadata": {},
   "source": [
    "# Train PCA model on normalized data"
   ]
  },
  {
   "cell_type": "code",
   "execution_count": 22,
   "id": "8f8acca8-11fb-4977-8d1a-4cde921ef11f",
   "metadata": {},
   "outputs": [
    {
     "name": "stdout",
     "output_type": "stream",
     "text": [
      "[pca] >Extracting column labels from dataframe.\n",
      "[pca] >Extracting row labels from dataframe.\n",
      "[pca] >Normalizing input data per feature (zero mean and unit variance)..\n",
      "[pca] >The PCA reduction is performed to capture [80.0%] explained variance using the [7] columns of the input data.\n",
      "[pca] >Fit using PCA.\n",
      "[pca] >Compute loadings and PCs.\n",
      "[pca] >Compute explained variance.\n",
      "[pca] >Number of components is [4] that covers the [80.00%] explained variance.\n",
      "[pca] >The PCA reduction is performed on the [7] columns of the input dataframe.\n",
      "[pca] >Fit using PCA.\n",
      "[pca] >Compute loadings and PCs.\n",
      "[pca] >Outlier detection using Hotelling T2 test with alpha=[0.05] and n_components=[4]\n",
      "[pca] >Multiple test correction applied for Hotelling T2 test: [fdr_bh]\n",
      "[pca] >Outlier detection using SPE/DmodX with n_std=[3]\n"
     ]
    }
   ],
   "source": [
    "model = pca_funct(n_components=.8, normalize=True)\n",
    "outcomes = model.fit_transform(df_pca)"
   ]
  },
  {
   "cell_type": "markdown",
   "id": "9574f01e-ef9c-4b58-97d2-28431efc8432",
   "metadata": {},
   "source": [
    "# Display loading matrix"
   ]
  },
  {
   "cell_type": "code",
   "execution_count": 23,
   "id": "9c8c4b07-badc-42ca-aac8-27bd747c36fd",
   "metadata": {},
   "outputs": [
    {
     "data": {
      "text/html": [
       "<div>\n",
       "<style scoped>\n",
       "    .dataframe tbody tr th:only-of-type {\n",
       "        vertical-align: middle;\n",
       "    }\n",
       "\n",
       "    .dataframe tbody tr th {\n",
       "        vertical-align: top;\n",
       "    }\n",
       "\n",
       "    .dataframe thead th {\n",
       "        text-align: right;\n",
       "    }\n",
       "</style>\n",
       "<table border=\"1\" class=\"dataframe\">\n",
       "  <thead>\n",
       "    <tr style=\"text-align: right;\">\n",
       "      <th></th>\n",
       "      <th>population</th>\n",
       "      <th>children</th>\n",
       "      <th>age</th>\n",
       "      <th>income</th>\n",
       "      <th>initial_days</th>\n",
       "      <th>total_charge</th>\n",
       "      <th>additional_charges</th>\n",
       "    </tr>\n",
       "  </thead>\n",
       "  <tbody>\n",
       "    <tr>\n",
       "      <th>PC1</th>\n",
       "      <td>0.023781</td>\n",
       "      <td>0.034781</td>\n",
       "      <td>0.085583</td>\n",
       "      <td>-0.020436</td>\n",
       "      <td>0.700511</td>\n",
       "      <td>0.701685</td>\n",
       "      <td>0.086050</td>\n",
       "    </tr>\n",
       "    <tr>\n",
       "      <th>PC2</th>\n",
       "      <td>-0.027878</td>\n",
       "      <td>0.017088</td>\n",
       "      <td>0.701429</td>\n",
       "      <td>-0.018487</td>\n",
       "      <td>-0.091319</td>\n",
       "      <td>-0.080819</td>\n",
       "      <td>0.701224</td>\n",
       "    </tr>\n",
       "    <tr>\n",
       "      <th>PC3</th>\n",
       "      <td>0.455552</td>\n",
       "      <td>0.571886</td>\n",
       "      <td>0.002428</td>\n",
       "      <td>0.681759</td>\n",
       "      <td>-0.013560</td>\n",
       "      <td>-0.012712</td>\n",
       "      <td>0.016489</td>\n",
       "    </tr>\n",
       "    <tr>\n",
       "      <th>PC4</th>\n",
       "      <td>0.833312</td>\n",
       "      <td>-0.542181</td>\n",
       "      <td>0.014524</td>\n",
       "      <td>-0.102930</td>\n",
       "      <td>-0.005517</td>\n",
       "      <td>-0.004052</td>\n",
       "      <td>0.027915</td>\n",
       "    </tr>\n",
       "  </tbody>\n",
       "</table>\n",
       "</div>"
      ],
      "text/plain": [
       "     population  children       age    income  initial_days  total_charge  \\\n",
       "PC1    0.023781  0.034781  0.085583 -0.020436      0.700511      0.701685   \n",
       "PC2   -0.027878  0.017088  0.701429 -0.018487     -0.091319     -0.080819   \n",
       "PC3    0.455552  0.571886  0.002428  0.681759     -0.013560     -0.012712   \n",
       "PC4    0.833312 -0.542181  0.014524 -0.102930     -0.005517     -0.004052   \n",
       "\n",
       "     additional_charges  \n",
       "PC1            0.086050  \n",
       "PC2            0.701224  \n",
       "PC3            0.016489  \n",
       "PC4            0.027915  "
      ]
     },
     "execution_count": 23,
     "metadata": {},
     "output_type": "execute_result"
    }
   ],
   "source": [
    "loadings = outcomes['loadings']\n",
    "loadings"
   ]
  },
  {
   "cell_type": "markdown",
   "id": "c18042a7-5d16-4d33-aaf1-8cad925420b1",
   "metadata": {},
   "source": [
    "# Scree plot and % of explained variance"
   ]
  },
  {
   "cell_type": "code",
   "execution_count": 24,
   "id": "e1f02b25-928e-47ee-8e2a-a9f1397d9238",
   "metadata": {},
   "outputs": [
    {
     "data": {
      "image/png": "[encoded data removed]",
      "text/plain": [
       "<Figure size 1000x800 with 1 Axes>"
      ]
     },
     "metadata": {},
     "output_type": "display_data"
    }
   ],
   "source": [
    "model.plot(figsize=(10,8))\n",
    "plt.show()"
   ]
  },
  {
   "cell_type": "code",
   "execution_count": 27,
   "id": "07f9dbe5-3b86-41b0-9b53-eba9529d3d8a",
   "metadata": {},
   "outputs": [
    {
     "data": {
      "text/html": [
       "<div>\n",
       "<style scoped>\n",
       "    .dataframe tbody tr th:only-of-type {\n",
       "        vertical-align: middle;\n",
       "    }\n",
       "\n",
       "    .dataframe tbody tr th {\n",
       "        vertical-align: top;\n",
       "    }\n",
       "\n",
       "    .dataframe thead th {\n",
       "        text-align: right;\n",
       "    }\n",
       "</style>\n",
       "<table border=\"1\" class=\"dataframe\">\n",
       "  <thead>\n",
       "    <tr style=\"text-align: right;\">\n",
       "      <th></th>\n",
       "      <th>PC</th>\n",
       "      <th>feature</th>\n",
       "      <th>loading</th>\n",
       "      <th>type</th>\n",
       "    </tr>\n",
       "  </thead>\n",
       "  <tbody>\n",
       "    <tr>\n",
       "      <th>0</th>\n",
       "      <td>PC1</td>\n",
       "      <td>total_charge</td>\n",
       "      <td>0.701685</td>\n",
       "      <td>best</td>\n",
       "    </tr>\n",
       "    <tr>\n",
       "      <th>1</th>\n",
       "      <td>PC2</td>\n",
       "      <td>age</td>\n",
       "      <td>0.701429</td>\n",
       "      <td>best</td>\n",
       "    </tr>\n",
       "    <tr>\n",
       "      <th>2</th>\n",
       "      <td>PC3</td>\n",
       "      <td>income</td>\n",
       "      <td>0.681759</td>\n",
       "      <td>best</td>\n",
       "    </tr>\n",
       "    <tr>\n",
       "      <th>3</th>\n",
       "      <td>PC4</td>\n",
       "      <td>population</td>\n",
       "      <td>0.833312</td>\n",
       "      <td>best</td>\n",
       "    </tr>\n",
       "    <tr>\n",
       "      <th>4</th>\n",
       "      <td>PC3</td>\n",
       "      <td>children</td>\n",
       "      <td>0.571886</td>\n",
       "      <td>weak</td>\n",
       "    </tr>\n",
       "    <tr>\n",
       "      <th>5</th>\n",
       "      <td>PC1</td>\n",
       "      <td>initial_days</td>\n",
       "      <td>0.700511</td>\n",
       "      <td>weak</td>\n",
       "    </tr>\n",
       "    <tr>\n",
       "      <th>6</th>\n",
       "      <td>PC2</td>\n",
       "      <td>additional_charges</td>\n",
       "      <td>0.701224</td>\n",
       "      <td>weak</td>\n",
       "    </tr>\n",
       "  </tbody>\n",
       "</table>\n",
       "</div>"
      ],
      "text/plain": [
       "    PC             feature   loading  type\n",
       "0  PC1        total_charge  0.701685  best\n",
       "1  PC2                 age  0.701429  best\n",
       "2  PC3              income  0.681759  best\n",
       "3  PC4          population  0.833312  best\n",
       "4  PC3            children  0.571886  weak\n",
       "5  PC1        initial_days  0.700511  weak\n",
       "6  PC2  additional_charges  0.701224  weak"
      ]
     },
     "execution_count": 27,
     "metadata": {},
     "output_type": "execute_result"
    }
   ],
   "source": [
    "outcomes['topfeat']"
   ]
  },
  {
   "cell_type": "code",
   "execution_count": null,
   "id": "5bca43ef-5264-44da-965a-16d9cf34084b",
   "metadata": {},
   "outputs": [],
   "source": []
  }
 ],
 "metadata": {
  "kernelspec": {
   "display_name": "Python 3 (ipykernel)",
   "language": "python",
   "name": "python3"
  },
  "language_info": {
   "codemirror_mode": {
    "name": "ipython",
    "version": 3
   },
   "file_extension": ".py",
   "mimetype": "text/x-python",
   "name": "python",
   "nbconvert_exporter": "python",
   "pygments_lexer": "ipython3",
   "version": "3.9.2"
  }
 },
 "nbformat": 4,
 "nbformat_minor": 5
}
